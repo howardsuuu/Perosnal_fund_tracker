{
 "metadata": {
  "language_info": {
   "codemirror_mode": {
    "name": "ipython",
    "version": 3
   },
   "file_extension": ".py",
   "mimetype": "text/x-python",
   "name": "python",
   "nbconvert_exporter": "python",
   "pygments_lexer": "ipython3",
   "version": "3.7.1"
  },
  "orig_nbformat": 2,
  "kernelspec": {
   "name": "python371jvsc74a57bd0398dc28c06ad810e77de546bbdfa897a6ee0b83e59a5207339dda01a7843e01d",
   "display_name": "Python 3.7.1 64-bit ('base': conda)"
  }
 },
 "nbformat": 4,
 "nbformat_minor": 2,
 "cells": [
  {
   "cell_type": "code",
   "execution_count": 30,
   "metadata": {},
   "outputs": [],
   "source": [
    "# from selenium import webdriver   # for webdriver\n",
    "# from selenium.webdriver.support.ui import WebDriverWait  # for implicit and explict waits\n",
    "# from selenium.webdriver.chrome.options import Options  # for suppressing the browser\n",
    "\n",
    "# #### Run without opening the browser\n",
    "# option = webdriver.ChromeOptions()\n",
    "# option.add_argument('headless')\n",
    "# driver = webdriver.Chrome('/Users/howardsu666/Desktop/Github/howard_fund/chromedriver',options=option)\n"
   ]
  },
  {
   "cell_type": "code",
   "execution_count": 1,
   "metadata": {},
   "outputs": [],
   "source": [
    "from selenium import webdriver\n",
    "from selenium.webdriver.chrome.options import Options\n",
    "import time\n",
    "\n",
    "# 取消網頁中的彈出視窗\n",
    "options = Options()\n",
    "options.add_argument(\"--disable-notifications\")\n",
    "\n",
    "#connect to the Certain Webdriver\n",
    "browser = webdriver.Chrome('/Users/howardsu666/Desktop/Github/howard_fund/chromedriver')\n",
    "browser.get(\"https://tw.stock.yahoo.com/fund/history/F00000VV22:FO\")\n"
   ]
  },
  {
   "cell_type": "code",
   "execution_count": 33,
   "metadata": {},
   "outputs": [],
   "source": []
  },
  {
   "cell_type": "code",
   "execution_count": null,
   "metadata": {},
   "outputs": [],
   "source": []
  }
 ]
}