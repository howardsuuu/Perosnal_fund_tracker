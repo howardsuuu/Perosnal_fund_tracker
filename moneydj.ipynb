{
 "metadata": {
  "language_info": {
   "codemirror_mode": {
    "name": "ipython",
    "version": 3
   },
   "file_extension": ".py",
   "mimetype": "text/x-python",
   "name": "python",
   "nbconvert_exporter": "python",
   "pygments_lexer": "ipython3",
   "version": "3.7.1"
  },
  "orig_nbformat": 2,
  "kernelspec": {
   "name": "python371jvsc74a57bd0398dc28c06ad810e77de546bbdfa897a6ee0b83e59a5207339dda01a7843e01d",
   "display_name": "Python 3.7.1 64-bit ('base': conda)"
  }
 },
 "nbformat": 4,
 "nbformat_minor": 2,
 "cells": [
  {
   "cell_type": "code",
   "execution_count": 19,
   "metadata": {},
   "outputs": [
    {
     "output_type": "execute_result",
     "data": {
      "text/plain": [
       "200"
      ]
     },
     "metadata": {},
     "execution_count": 19
    }
   ],
   "source": [
    "import requests\n",
    "from selenium.webdriver.chrome.options import Options\n",
    "import pandas as pd\n",
    "options = Options()\n",
    "options.add_argument(\"--disable-notifications\")\n",
    "r = requests.get(\"https://www.moneydj.com/funddj/ya/yp010000.djhtm?a=ACFH50\")\n",
    "r.status_code"
   ]
  },
  {
   "source": [
    "from bs4 import BeautifulSoup\n",
    "soup = BeautifulSoup(r.text, 'html.parser')\n"
   ],
   "cell_type": "code",
   "metadata": {},
   "execution_count": null,
   "outputs": []
  },
  {
   "cell_type": "code",
   "execution_count": 17,
   "metadata": {},
   "outputs": [
    {
     "output_type": "execute_result",
     "data": {
      "text/plain": [
       "[<table border=\"0\" cellpadding=\"0\" cellspacing=\"0\" class=\"t01\"><tr><td class=\"t2c1\" width=\"50%\">日期</td><td class=\"t2\" width=\"50%\">淨值</td></tr>\n",
       " <tr><td class=\"t3n0c1\">04/27</td>\n",
       " <td class=\"t3n1\">14.0700</td></tr>\n",
       " <tr><td class=\"t3n0c1_rev\">04/26</td>\n",
       " <td class=\"t3n1_rev\">14.0000</td></tr>\n",
       " <tr><td class=\"t3n0c1\">04/23</td>\n",
       " <td class=\"t3n1\">14.2300</td></tr>\n",
       " <tr><td class=\"t3n0c1_rev\">04/22</td>\n",
       " <td class=\"t3n1_rev\">14.0600</td></tr>\n",
       " <tr><td class=\"t3n0c1\">04/21</td>\n",
       " <td class=\"t3n1\">14.0100</td></tr>\n",
       " <tr><td class=\"t3n0c1_rev\">04/20</td>\n",
       " <td class=\"t3n1_rev\">14.0200</td></tr>\n",
       " <tr><td class=\"t3n0c1\">04/19</td>\n",
       " <td class=\"t3n1\">14.0100</td></tr>\n",
       " <tr><td class=\"t3n0c1_rev\">04/16</td>\n",
       " <td class=\"t3n1_rev\">13.7800</td></tr>\n",
       " <tr><td class=\"t3n0c1\">04/15</td>\n",
       " <td class=\"t3n1\">13.7200</td></tr>\n",
       " <tr><td class=\"t3n0c1_rev\">04/14</td>\n",
       " <td class=\"t3n1_rev\">13.9100</td></tr>\n",
       " </table>,\n",
       " <table border=\"0\" cellpadding=\"0\" cellspacing=\"0\" class=\"t01\"><tr><td class=\"t2\" width=\"50%\">日期</td><td class=\"t2\" width=\"50%\">淨值</td></tr>\n",
       " <tr><td class=\"t3n0\">04/13</td>\n",
       " <td class=\"t3n1\">13.7600</td></tr>\n",
       " <tr><td class=\"t3n0_rev\">04/12</td>\n",
       " <td class=\"t3n1_rev\">13.8000</td></tr>\n",
       " <tr><td class=\"t3n0\">04/09</td>\n",
       " <td class=\"t3n1\">13.9100</td></tr>\n",
       " <tr><td class=\"t3n0_rev\">04/08</td>\n",
       " <td class=\"t3n1_rev\">14.1000</td></tr>\n",
       " <tr><td class=\"t3n0\">04/07</td>\n",
       " <td class=\"t3n1\">14.0900</td></tr>\n",
       " <tr><td class=\"t3n0_rev\">04/01</td>\n",
       " <td class=\"t3n1_rev\">14.2400</td></tr>\n",
       " <tr><td class=\"t3n0\">03/31</td>\n",
       " <td class=\"t3n1\">14.0200</td></tr>\n",
       " <tr><td class=\"t3n0_rev\">03/30</td>\n",
       " <td class=\"t3n1_rev\">14.1300</td></tr>\n",
       " <tr><td class=\"t3n0\">03/29</td>\n",
       " <td class=\"t3n1\">14.0400</td></tr>\n",
       " <tr><td class=\"t3n0_rev\">03/26</td>\n",
       " <td class=\"t3n1_rev\">14.1200</td></tr>\n",
       " </table>,\n",
       " <table border=\"0\" cellpadding=\"0\" cellspacing=\"0\" class=\"t01\"><tr><td class=\"t2\" width=\"50%\">日期</td><td class=\"t2\" width=\"50%\">淨值</td></tr>\n",
       " <tr><td class=\"t3n0\">03/25</td>\n",
       " <td class=\"t3n1\">13.8200</td></tr>\n",
       " <tr><td class=\"t3n0_rev\">03/24</td>\n",
       " <td class=\"t3n1_rev\">13.8700</td></tr>\n",
       " <tr><td class=\"t3n0\">03/23</td>\n",
       " <td class=\"t3n1\">14.0800</td></tr>\n",
       " <tr><td class=\"t3n0_rev\">03/22</td>\n",
       " <td class=\"t3n1_rev\">14.2600</td></tr>\n",
       " <tr><td class=\"t3n0\">03/19</td>\n",
       " <td class=\"t3n1\">14.2200</td></tr>\n",
       " <tr><td class=\"t3n0_rev\">03/18</td>\n",
       " <td class=\"t3n1_rev\">14.4900</td></tr>\n",
       " <tr><td class=\"t3n0\">03/17</td>\n",
       " <td class=\"t3n1\">14.3800</td></tr>\n",
       " <tr><td class=\"t3n0_rev\">03/16</td>\n",
       " <td class=\"t3n1_rev\">14.3700</td></tr>\n",
       " <tr><td class=\"t3n0\">03/15</td>\n",
       " <td class=\"t3n1\">14.1800</td></tr>\n",
       " <tr><td class=\"t3n0_rev\">03/12</td>\n",
       " <td class=\"t3n1_rev\">14.4500</td></tr>\n",
       " </table>]"
      ]
     },
     "metadata": {},
     "execution_count": 17
    }
   ],
   "source": [
    "fund_table = soup.find_all('table', class_ = 't01')[1:]\n",
    "fund_table"
   ]
  },
  {
   "cell_type": "code",
   "execution_count": null,
   "metadata": {},
   "outputs": [],
   "source": []
  }
 ]
}