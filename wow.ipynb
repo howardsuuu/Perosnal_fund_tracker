{
 "metadata": {
  "language_info": {
   "codemirror_mode": {
    "name": "ipython",
    "version": 3
   },
   "file_extension": ".py",
   "mimetype": "text/x-python",
   "name": "python",
   "nbconvert_exporter": "python",
   "pygments_lexer": "ipython3",
   "version": "3.7.1"
  },
  "orig_nbformat": 2,
  "kernelspec": {
   "name": "python371jvsc74a57bd0398dc28c06ad810e77de546bbdfa897a6ee0b83e59a5207339dda01a7843e01d",
   "display_name": "Python 3.7.1 64-bit ('base': conda)"
  }
 },
 "nbformat": 4,
 "nbformat_minor": 2,
 "cells": [
  {
   "cell_type": "code",
   "execution_count": 128,
   "metadata": {},
   "outputs": [],
   "source": [
    "import time, datetime\n",
    "import pandas as pd\n",
    "import requests\n",
    "import json\n",
    "import csv\n",
    "from dateutil.relativedelta import relativedelta # To Calculate a interval of time"
   ]
  },
  {
   "cell_type": "code",
   "execution_count": null,
   "metadata": {},
   "outputs": [],
   "source": [
    "def get_all_data():\n",
    "    # day = datetime.date.today()\n",
    "    one_yrs_ago = str(datetime.date.today() - relativedelta(years=1))\n",
    "    initial_date = '2015-04-26' \n",
    "    today = time.strftime(\"%Y-%m-%d\") # fetch DateTime Obj into Str\n",
    "    today_url = 'https://www.moneydj.com/funddj/bcd/tBCDNavList.djbcd?a=ACFH50&B='+initial_date + '&C=' + today\n",
    "    raw_data = requests.get(today_url)\n",
    "\n",
    "\n",
    "    first_handle_list = raw_data.text.replace(' ', ',')\n",
    "    after_handle_list = first_handle_list.split(',')\n",
    "\n",
    "    \n",
    "    length = len(after_handle_list)\n",
    "    middle_index = length//2\n",
    "    first_half_date = after_handle_list[:middle_index]\n",
    "    second_half_value = after_handle_list[middle_index:]\n",
    "    # after_handle_dict = dict(zip(first_half_date, second_half_value))\n",
    "\n",
    "    after_handle_dict = {'Date': first_half_date, 'Value': second_half_value}\n",
    "    return after_handle_dict\n",
    "    # print(today_url, '\\n', r.status_code)\n",
    "get_all_data()"
   ]
  },
  {
   "cell_type": "code",
   "execution_count": null,
   "metadata": {},
   "outputs": [],
   "source": [
    "# length = len(get_all_data())\n",
    "# middle_index = length//2\n",
    "# first_half = get_all_data()[:middle_index]\n",
    "# second_half = get_all_data()[middle_index:]\n",
    "\n",
    "# after_handele_fund_dict = dict(zip(first_half, second_half))"
   ]
  },
  {
   "cell_type": "code",
   "execution_count": 154,
   "metadata": {},
   "outputs": [
    {
     "output_type": "execute_result",
     "data": {
      "text/plain": [
       "          Date  Value  Daily_Fluc\n",
       "0     20150526   9.99         NaN\n",
       "1     20150527   9.97   -0.002002\n",
       "2     20150528   9.81   -0.016048\n",
       "3     20150529   9.82    0.001019\n",
       "4     20150601   9.99    0.017312\n",
       "...        ...    ...         ...\n",
       "1398  20210427  14.07    0.005000\n",
       "1399  20210428  14.16    0.006397\n",
       "1400  20210429  14.24    0.005650\n",
       "1401  20210506  13.95   -0.020365\n",
       "1402  20210507  13.74   -0.015054\n",
       "\n",
       "[1403 rows x 3 columns]"
      ],
      "text/html": "<div>\n<style scoped>\n    .dataframe tbody tr th:only-of-type {\n        vertical-align: middle;\n    }\n\n    .dataframe tbody tr th {\n        vertical-align: top;\n    }\n\n    .dataframe thead th {\n        text-align: right;\n    }\n</style>\n<table border=\"1\" class=\"dataframe\">\n  <thead>\n    <tr style=\"text-align: right;\">\n      <th></th>\n      <th>Date</th>\n      <th>Value</th>\n      <th>Daily_Fluc</th>\n    </tr>\n  </thead>\n  <tbody>\n    <tr>\n      <th>0</th>\n      <td>20150526</td>\n      <td>9.99</td>\n      <td>NaN</td>\n    </tr>\n    <tr>\n      <th>1</th>\n      <td>20150527</td>\n      <td>9.97</td>\n      <td>-0.002002</td>\n    </tr>\n    <tr>\n      <th>2</th>\n      <td>20150528</td>\n      <td>9.81</td>\n      <td>-0.016048</td>\n    </tr>\n    <tr>\n      <th>3</th>\n      <td>20150529</td>\n      <td>9.82</td>\n      <td>0.001019</td>\n    </tr>\n    <tr>\n      <th>4</th>\n      <td>20150601</td>\n      <td>9.99</td>\n      <td>0.017312</td>\n    </tr>\n    <tr>\n      <th>...</th>\n      <td>...</td>\n      <td>...</td>\n      <td>...</td>\n    </tr>\n    <tr>\n      <th>1398</th>\n      <td>20210427</td>\n      <td>14.07</td>\n      <td>0.005000</td>\n    </tr>\n    <tr>\n      <th>1399</th>\n      <td>20210428</td>\n      <td>14.16</td>\n      <td>0.006397</td>\n    </tr>\n    <tr>\n      <th>1400</th>\n      <td>20210429</td>\n      <td>14.24</td>\n      <td>0.005650</td>\n    </tr>\n    <tr>\n      <th>1401</th>\n      <td>20210506</td>\n      <td>13.95</td>\n      <td>-0.020365</td>\n    </tr>\n    <tr>\n      <th>1402</th>\n      <td>20210507</td>\n      <td>13.74</td>\n      <td>-0.015054</td>\n    </tr>\n  </tbody>\n</table>\n<p>1403 rows × 3 columns</p>\n</div>"
     },
     "metadata": {},
     "execution_count": 154
    }
   ],
   "source": [
    "import os.path\n",
    "\n",
    "def fund_data_csv():\n",
    "\n",
    "    file_path = '/Users/howardsu666/Desktop/Github/howard_fund/test.csv'\n",
    "    file_exists = os.path.isfile(file_path)\n",
    "\n",
    "    df = pd.DataFrame(get_all_data())\n",
    "    \n",
    "    df.Value = df.Value.astype(float).fillna(0.0)\n",
    "    df['Daily_Fluc'] = df['Value'].pct_change()\n",
    "    \n",
    "    return df\n",
    "    # df.to_csv('test.csv')\n",
    "    # try:\n",
    "    #     with open ('test.csv', 'a') as csvfile:\n",
    "    #         headers = ['Date', 'Value']\n",
    "    #         writer = csv.DictWriter(csvfile, fieldnames=headers)\n",
    "\n",
    "    #         if not file_exists:\n",
    "    #             writer.writeheader()  # file doesn't exist yet, write a header\n",
    "\n",
    "    # except IOError:\n",
    "    #     print(\"I/O error\")\n",
    "fund_data_csv()"
   ]
  },
  {
   "cell_type": "code",
   "execution_count": null,
   "metadata": {},
   "outputs": [],
   "source": []
  }
 ]
}