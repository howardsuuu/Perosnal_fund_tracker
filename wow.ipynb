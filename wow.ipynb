{
 "metadata": {
  "language_info": {
   "codemirror_mode": {
    "name": "ipython",
    "version": 3
   },
   "file_extension": ".py",
   "mimetype": "text/x-python",
   "name": "python",
   "nbconvert_exporter": "python",
   "pygments_lexer": "ipython3",
   "version": "3.7.1"
  },
  "orig_nbformat": 2,
  "kernelspec": {
   "name": "python371jvsc74a57bd0398dc28c06ad810e77de546bbdfa897a6ee0b83e59a5207339dda01a7843e01d",
   "display_name": "Python 3.7.1 64-bit ('base': conda)"
  }
 },
 "nbformat": 4,
 "nbformat_minor": 2,
 "cells": [
  {
   "cell_type": "code",
   "execution_count": null,
   "metadata": {},
   "outputs": [],
   "source": [
    "import datetime, time\n",
    "import requests\n",
    "import json\n",
    "import csv\n",
    "from dateutil.relativedelta import relativedelta\n",
    "day = datetime.date.today()"
   ]
  },
  {
   "cell_type": "code",
   "execution_count": null,
   "metadata": {},
   "outputs": [],
   "source": [
    "def get_all_data():\n",
    "    # day = datetime.date.today()\n",
    "    one_yrs_ago = str(datetime.date.today() - relativedelta(years=1))\n",
    "    initial_date = '2015-04-26'\n",
    "    today = time.strftime(\"%Y-%m-%d\")\n",
    "    today_url = 'https://www.moneydj.com/funddj/bcd/tBCDNavList.djbcd?a=ACFH50&B='+initial_date + '&C=' + today\n",
    "    raw_data = requests.get(today_url)\n",
    "\n",
    "\n",
    "    first_handle_list = raw_data.text.replace(' ', ',')\n",
    "    after_handle_list = first_handle_list.split(',')\n",
    "\n",
    "    \n",
    "    length = len(after_handle_list)\n",
    "    middle_index = length//2\n",
    "    first_half_date = after_handle_list[:middle_index]\n",
    "    second_half_value = after_handle_list[middle_index:]\n",
    "    after_handle_dict = dict(zip(first_half_date, second_half_value))\n",
    "\n",
    "    # print(today_url, '\\n', r.status_code)\n",
    "    return after_handle_dict\n",
    "get_all_data()"
   ]
  },
  {
   "cell_type": "code",
   "execution_count": null,
   "metadata": {},
   "outputs": [],
   "source": [
    "# length = len(get_all_data())\n",
    "# middle_index = length//2\n",
    "# first_half = get_all_data()[:middle_index]\n",
    "# second_half = get_all_data()[middle_index:]\n",
    "\n",
    "after_handele_fund_dict = dict(zip(first_half, second_half))"
   ]
  },
  {
   "cell_type": "code",
   "execution_count": null,
   "metadata": {},
   "outputs": [],
   "source": [
    "import os.path\n",
    "\n",
    "def fund_data_csv():\n",
    "\n",
    "    file_path = '/Users/howardsu666/Desktop/Github/howard_fund/'\n",
    "    file_exists = os.path.isfile(file_path)\n",
    "\n",
    "    with open (howard_fund, 'a') as csvfile:\n",
    "    headers = ['Date', 'Value']\n",
    "    writer = csv.DictWriter(csvfile, delimiter=',', lineterminator='\\n',fieldnames=headers)\n",
    "\n",
    "    if not file_exists:\n",
    "        writer.writeheader()  # file doesn't exist yet, write a header\n",
    "    writer.writerow()  "
   ]
  },
  {
   "cell_type": "code",
   "execution_count": null,
   "metadata": {},
   "outputs": [],
   "source": [
    "a = [1, 2, 3, 4, 5, 6]\n",
    "gg = len(a)//2\n",
    "a[:2]\n"
   ]
  }
 ]
}