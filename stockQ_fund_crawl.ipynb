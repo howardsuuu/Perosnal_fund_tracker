{
 "metadata": {
  "language_info": {
   "codemirror_mode": {
    "name": "ipython",
    "version": 3
   },
   "file_extension": ".py",
   "mimetype": "text/x-python",
   "name": "python",
   "nbconvert_exporter": "python",
   "pygments_lexer": "ipython3",
   "version": "3.7.1"
  },
  "orig_nbformat": 2,
  "kernelspec": {
   "name": "python371jvsc74a57bd0398dc28c06ad810e77de546bbdfa897a6ee0b83e59a5207339dda01a7843e01d",
   "display_name": "Python 3.7.1 64-bit ('base': conda)"
  }
 },
 "nbformat": 4,
 "nbformat_minor": 2,
 "cells": [
  {
   "cell_type": "code",
   "execution_count": null,
   "metadata": {},
   "outputs": [],
   "source": [
    "import requests\n",
    "import pandas as pd\n",
    "r = requests.get(\"http://www.stockq.org/funds/fund/fuhhwa/FH057.php\")\n",
    "#r.status_code"
   ]
  },
  {
   "source": [
    "# crawl Table\n",
    "from bs4 import BeautifulSoup\n",
    "soup = BeautifulSoup(r.text, 'html.parser')"
   ],
   "cell_type": "code",
   "metadata": {},
   "execution_count": null,
   "outputs": []
  },
  {
   "cell_type": "code",
   "execution_count": null,
   "metadata": {},
   "outputs": [],
   "source": [
    "fund_table = soup.find_all('table', class_ = 'fundpagetable')[1]\n",
    "# crawl Date / Value\n",
    "date_li = []\n",
    "net_value_li = []\n",
    "for tr in fund_table.find_all('tr')[1:]:\n",
    "    # print(tr)\n",
    "    date = tr.find_all('td')[0].text #找日期 Tag\n",
    "    date_li.append(date)\n",
    "    net_value = tr.find_all('td')[1].text #找淨值 Tag\n",
    "    net_value_li.append(net_value)\n",
    "    print(date, net_value)"
   ]
  },
  {
   "cell_type": "code",
   "execution_count": null,
   "metadata": {},
   "outputs": [],
   "source": [
    "# Conver two list into Dict (Date & Net Value)\n",
    "new_value = dict(zip(date_li, net_value_li))\n",
    "    # res = {date_li[i]: net_value_li[i] for i in range(len(date_li))}\n",
    "\n",
    "# Personal buying Date Starts from 4/7\n",
    "initial_date = {\n",
    "    '2021/04/09' : '13.9100',\n",
    "    '2021/04/08' : '14.1000', \n",
    "    '2021/04/07' : '14.0900'}\n",
    "# new_data.update(initial_date)\n"
   ]
  },
  {
   "cell_type": "code",
   "execution_count": null,
   "metadata": {},
   "outputs": [],
   "source": [
    "# Import into Pandas\n",
    "df = pd.DataFrame(list(new_value.items()), columns = ['日期', '淨值'])\n",
    "df"
   ]
  },
  {
   "cell_type": "code",
   "execution_count": null,
   "metadata": {},
   "outputs": [],
   "source": [
    "# Handle Duplicate\n",
    "for tr in fund_table.find_all('tr')[1:]:\n",
    "    # print(tr)\n",
    "    date = tr.find_all('td')[0].text #找日期 Tag\n",
    "    date_li.append(date)\n",
    "    net_value = tr.find_all('td')[1].text #找淨值 Tag\n",
    "    net_value_li.append(net_value)\n",
    "    # print(date, net_value)\n",
    "ext_value = dict(zip(date_li, net_value_li))\n",
    "ext_value"
   ]
  },
  {
   "cell_type": "code",
   "execution_count": null,
   "metadata": {},
   "outputs": [],
   "source": [
    "\n",
    "df2 = pd.DataFrame(list(ext_value.items()), columns = ['日期', '淨值'])\n",
    "# df.update(ext_value)\n",
    "df3 = pd.concat([df , df2], ignore_index = True)\n",
    "df3 = df3.drop_duplicates()"
   ]
  },
  {
   "cell_type": "code",
   "execution_count": null,
   "metadata": {},
   "outputs": [],
   "source": [
    "df3"
   ]
  },
  {
   "cell_type": "code",
   "execution_count": null,
   "metadata": {},
   "outputs": [],
   "source": [
    "\n"
   ]
  }
 ]
}